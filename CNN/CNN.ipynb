{
 "cells": [
  {
   "cell_type": "code",
   "execution_count": 2,
   "metadata": {},
   "outputs": [],
   "source": [
    "import torch\n",
    "import torch.nn as nn\n",
    "import torch.optim as optim\n",
    "import torchvision\n",
    "import torchvision.transforms as transforms\n",
    "from torch.utils.data import DataLoader\n",
    "import matplotlib.pyplot as plt\n",
    "import itertools\n",
    "import json\n",
    "import os\n",
    "import seaborn as sns"
   ]
  },
  {
   "cell_type": "code",
   "execution_count": 3,
   "metadata": {},
   "outputs": [
    {
     "name": "stdout",
     "output_type": "stream",
     "text": [
      "Files already downloaded and verified\n",
      "Files already downloaded and verified\n"
     ]
    }
   ],
   "source": [
    "transform = transforms.Compose(\n",
    "    [transforms.ToTensor(),\n",
    "     transforms.Normalize((0.5, 0.5, 0.5), (0.5, 0.5, 0.5))])\n",
    "\n",
    "trainset = torchvision.datasets.CIFAR10(root='./data', train=True,\n",
    "                                        download=True, transform=transform)\n",
    "trainloader = DataLoader(trainset, batch_size=100, shuffle=True, num_workers=2)\n",
    "\n",
    "testset = torchvision.datasets.CIFAR10(root='./data', train=False,\n",
    "                                       download=True, transform=transform)\n",
    "testloader = DataLoader(testset, batch_size=100, shuffle=False, num_workers=2)"
   ]
  },
  {
   "cell_type": "code",
   "execution_count": 4,
   "metadata": {},
   "outputs": [],
   "source": [
    "class NetA(nn.Module):\n",
    "    def __init__(self, kernel_size, stride):\n",
    "        super(NetA, self).__init__()\n",
    "        self.layer1 = nn.Sequential(\n",
    "            nn.Conv2d(3, 32, kernel_size=kernel_size, stride=stride, padding=1),\n",
    "            nn.ReLU(),\n",
    "            nn.MaxPool2d(kernel_size=2, stride=2))\n",
    "        \n",
    "        self._initialize_weights()\n",
    "\n",
    "    def _initialize_weights(self):\n",
    "        with torch.no_grad():\n",
    "            temp_tensor = torch.zeros(1, 3, 32, 32)\n",
    "            temp_tensor = self.layer1(temp_tensor)\n",
    "            self.flatten_size = temp_tensor.numel()\n",
    "\n",
    "        self.fc = nn.Linear(self.flatten_size, 10)\n",
    "    \n",
    "    def forward(self, x):\n",
    "        out = self.layer1(x)\n",
    "        out = out.view(out.size(0), -1)\n",
    "        out = self.fc(out)\n",
    "        return out\n",
    "\n",
    "class NetB(nn.Module):\n",
    "    def __init__(self, kernel_size, stride):\n",
    "        super(NetB, self).__init__()\n",
    "        self.layer1 = nn.Sequential(\n",
    "            nn.Conv2d(3, 32, kernel_size=kernel_size, stride=stride, padding=1),\n",
    "            nn.ReLU(),\n",
    "            nn.Conv2d(32, 64, kernel_size=kernel_size, stride=stride, padding=1),\n",
    "            nn.ReLU(),\n",
    "            nn.MaxPool2d(kernel_size=2, stride=2))\n",
    "\n",
    "        self._initialize_weights()\n",
    "\n",
    "    def _initialize_weights(self):\n",
    "        with torch.no_grad():\n",
    "            temp_tensor = torch.zeros(1, 3, 32, 32)\n",
    "            temp_tensor = self.layer1(temp_tensor)\n",
    "            self.flatten_size = temp_tensor.numel()\n",
    "\n",
    "        self.fc = nn.Linear(self.flatten_size, 10)\n",
    "    \n",
    "    def forward(self, x):\n",
    "        out = self.layer1(x)\n",
    "        out = out.view(out.size(0), -1)\n",
    "        out = self.fc(out)\n",
    "        return out"
   ]
  },
  {
   "cell_type": "code",
   "execution_count": 5,
   "metadata": {},
   "outputs": [],
   "source": [
    "def train_and_evaluate(net, learning_rate, num_epochs=5):\n",
    "    criterion = nn.CrossEntropyLoss()\n",
    "    optimizer = optim.SGD(net.parameters(), lr=learning_rate, momentum=0.9)\n",
    "    \n",
    "    for epoch in range(num_epochs):\n",
    "        net.train()\n",
    "        running_loss = 0.0\n",
    "        for i, data in enumerate(trainloader, 0):\n",
    "            inputs, labels = data\n",
    "            optimizer.zero_grad()\n",
    "            outputs = net(inputs)\n",
    "            loss = criterion(outputs, labels)\n",
    "            loss.backward()\n",
    "            optimizer.step()\n",
    "            running_loss += loss.item()\n",
    "        print(f\"End {epoch+1} epoch!\")\n",
    "    \n",
    "    net.eval()\n",
    "    correct = 0\n",
    "    total = 0\n",
    "    with torch.no_grad():\n",
    "        for data in testloader:\n",
    "            images, labels = data\n",
    "            outputs = net(images)\n",
    "            _, predicted = torch.max(outputs.data, 1)\n",
    "            total += labels.size(0)\n",
    "            correct += (predicted == labels).sum().item()\n",
    "    \n",
    "    accuracy = 100 * correct / total\n",
    "    return accuracy"
   ]
  },
  {
   "cell_type": "code",
   "execution_count": 6,
   "metadata": {},
   "outputs": [],
   "source": [
    "learning_rates = [0.001, 0.01, 0.1]\n",
    "kernel_sizes = [3, 5, 7]\n",
    "strides = [1, 2]\n",
    "block_types = ['A', 'B']\n",
    "\n",
    "results = []\n",
    "\n",
    "# Проверка наличия файла результатов\n",
    "if os.path.exists('results.json'):\n",
    "    with open('results.json', 'r') as f:\n",
    "        results = json.load(f)\n",
    "\n",
    "# Генерация комбинаций гиперпараметров\n",
    "combinations = list(itertools.product(learning_rates, kernel_sizes, strides, block_types))\n",
    "\n",
    "# Пропуск уже обработанных комбинаций\n",
    "processed_combinations = [(lr, ks, s, bt) for lr, ks, s, bt, _ in results]\n",
    "remaining_combinations = [comb for comb in combinations if comb not in processed_combinations]\n",
    "\n",
    "for lr, ks, s, bt in remaining_combinations:\n",
    "    if bt == 'A':\n",
    "        net = NetA(kernel_size=ks, stride=s)\n",
    "    else:\n",
    "        net = NetB(kernel_size=ks, stride=s)\n",
    "    \n",
    "    accuracy = train_and_evaluate(net, learning_rate=lr)\n",
    "    results.append((lr, ks, s, bt, accuracy))\n",
    "    print(f'Learning rate: {lr}, Kernel size: {ks}, Stride: {s}, Block type: {bt}, Accuracy: {accuracy}%')\n",
    "\n",
    "    # Сохранение модели\n",
    "    torch.save(net.state_dict(), f'saved/net_{bt}_lr{lr}_ks{ks}_s{s}.pth')\n",
    "\n",
    "    # Сохранение промежуточных результатов\n",
    "    with open('results.json', 'w') as f:\n",
    "        json.dump(results, f)"
   ]
  },
  {
   "cell_type": "code",
   "execution_count": 7,
   "metadata": {},
   "outputs": [
    {
     "data": {
      "image/png": "[encoded data removed]",
      "text/plain": [
       "<Figure size 1200x800 with 1 Axes>"
      ]
     },
     "metadata": {},
     "output_type": "display_data"
    }
   ],
   "source": [
    "# Установка стиля seaborn\n",
    "sns.set(style=\"whitegrid\")\n",
    "\n",
    "# Построение диаграмм\n",
    "fig, ax = plt.subplots(figsize=(12, 8))\n",
    "\n",
    "# Создание DataFrame для удобного построения графиков\n",
    "import pandas as pd\n",
    "\n",
    "df = pd.DataFrame(results, columns=['Learning Rate', 'Kernel Size', 'Stride', 'Block Type', 'Accuracy'])\n",
    "\n",
    "# Построение графика с использованием seaborn\n",
    "sns.scatterplot(\n",
    "    data=df,\n",
    "    x='Learning Rate',\n",
    "    y='Accuracy',\n",
    "    hue='Kernel Size',\n",
    "    style='Block Type',\n",
    "    size='Stride',\n",
    "    palette='deep',\n",
    "    s=100, # размер меток\n",
    "    ax=ax\n",
    ")\n",
    "\n",
    "# Настройка осей и заголовка\n",
    "ax.set_title('Model Accuracy vs. Learning Rate')\n",
    "ax.set_xlabel('Learning Rate')\n",
    "ax.set_ylabel('Accuracy')\n",
    "\n",
    "# Показ легенды и графика\n",
    "ax.legend(bbox_to_anchor=(1.05, 1), loc=2, borderaxespad=0.)\n",
    "plt.show()"
   ]
  },
  {
   "cell_type": "code",
   "execution_count": 8,
   "metadata": {},
   "outputs": [],
   "source": [
    "# # Best model\n",
    "# ks = 3\n",
    "# s = 1\n",
    "# lr = 0.01\n",
    "# bt=\"B\"\n",
    "# net = NetB(kernel_size=ks, stride=s)\n",
    "# accuracy = train_and_evaluate(net, learning_rate=lr, num_epochs=10)\n",
    "# print(f'Learning rate: {lr}, Kernel size: {ks}, Stride: {s}, Block type: {bt}, Accuracy: {accuracy}%')\n",
    "\n",
    "# # Сохранение модели\n",
    "# torch.save(net.state_dict(), f'net_{bt}_lr{lr}_ks{ks}_s{s}.pth')"
   ]
  },
  {
   "cell_type": "code",
   "execution_count": 9,
   "metadata": {},
   "outputs": [
    {
     "name": "stdout",
     "output_type": "stream",
     "text": [
      "Accuracy of the loaded model: 67.9%\n"
     ]
    }
   ],
   "source": [
    "def load_model(file_name, kernel_size, stride, block_type):\n",
    "    if block_type == 'A':\n",
    "        model = NetA(kernel_size=kernel_size, stride=stride)\n",
    "    else:\n",
    "        model = NetB(kernel_size=kernel_size, stride=stride)\n",
    "    \n",
    "    model.load_state_dict(torch.load(file_name))\n",
    "    return model\n",
    "\n",
    "def test_model(model):\n",
    "    model.eval()\n",
    "    correct = 0\n",
    "    total = 0\n",
    "    with torch.no_grad():\n",
    "        for data in testloader:\n",
    "            images, labels = data\n",
    "            outputs = model(images)\n",
    "            _, predicted = torch.max(outputs.data, 1)\n",
    "            total += labels.size(0)\n",
    "            correct += (predicted == labels).sum().item()\n",
    "    \n",
    "    accuracy = 100 * correct / total\n",
    "    return accuracy\n",
    "\n",
    "kernel_size = 3\n",
    "learning_rate = 0.01\n",
    "stride = 1\n",
    "block_type = 'B'\n",
    "file_name = f'saved/net_{block_type}_lr{learning_rate}_ks{kernel_size}_s{stride}.pth'\n",
    "\n",
    "model = load_model(file_name, kernel_size, stride, block_type)\n",
    "accuracy = test_model(model)\n",
    "print(f'Accuracy of the loaded model: {accuracy}%')"
   ]
  }
 ],
 "metadata": {
  "kernelspec": {
   "display_name": "Python 3",
   "language": "python",
   "name": "python3"
  },
  "language_info": {
   "codemirror_mode": {
    "name": "ipython",
    "version": 3
   },
   "file_extension": ".py",
   "mimetype": "text/x-python",
   "name": "python",
   "nbconvert_exporter": "python",
   "pygments_lexer": "ipython3",
   "version": "3.12.2"
  }
 },
 "nbformat": 4,
 "nbformat_minor": 2
}
